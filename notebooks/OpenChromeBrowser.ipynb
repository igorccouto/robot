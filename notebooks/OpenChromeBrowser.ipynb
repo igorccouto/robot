{
 "cells": [
  {
   "cell_type": "code",
   "execution_count": null,
   "metadata": {
    "tags": []
   },
   "outputs": [],
   "source": [
    "from robot.browser import chrome\n",
    "\n",
    "BROWSER_SETTINGS = {'user-agent': 'Mozilla/5.0 (X11; Linux x86_64) AppleWebKit/537.36 (KHTML, like Gecko) Chrome/58.0.3029.96 Safari/53',\n",
    "                    'window-size': '1366,768',\n",
    "                    '--lang': 'en_US',\n",
    "                    #'user-data-dir': 'SOME DIR',\n",
    "                    #'--proxy-server': 'SOME PROXY',\n",
    "                    '--log-level': 3,\n",
    "                    'disable-automation-extension': True,\n",
    "                    'password-manager': True,\n",
    "                    'extensions': []}\n",
    "\n",
    "options = chrome.create_options(**BROWSER_SETTINGS)\n",
    "driver = chrome.create_driver(options=options)"
   ]
  }
 ],
 "metadata": {
  "kernelspec": {
   "display_name": "Python 3.8.3 64-bit ('.venv': venv)",
   "language": "python",
   "name": "python_defaultSpec_1593207427959"
  },
  "language_info": {
   "codemirror_mode": {
    "name": "ipython",
    "version": 3
   },
   "file_extension": ".py",
   "mimetype": "text/x-python",
   "name": "python",
   "nbconvert_exporter": "python",
   "pygments_lexer": "ipython3",
   "version": "3.8.3-final"
  }
 },
 "nbformat": 4,
 "nbformat_minor": 4
}